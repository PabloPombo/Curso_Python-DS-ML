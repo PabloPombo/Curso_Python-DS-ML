{
 "cells": [
  {
   "cell_type": "markdown",
   "id": "5bc32480",
   "metadata": {},
   "source": [
    "# Proyecto del Día 2: Cambio de Divisas\n",
    "\n",
    "### Aclaración\n",
    "Como este es tu primer proyecto, va a estar **detalladamente guiado** con instrucciones para cada una de las celdas. A medida que avancemos en el curso, los proyectos serán menos guiados, y más complejos. Este proyecto es sencillo para que comencemos con algo fácil, y además porque aún no hemos aprendido suficientes herramientas como para hacer programas más funcionales, pero aún así te va a sorprender cómo pudimos unir todo lo aprendido hoy y realizar un buen desafío.\n",
    "\n",
    "\n",
    "### Consigna.\n",
    "Vas a crear un código que simule el funcionamiento de una **máquina de cambio de divisas**. Por el momento nuestra máquina sólo recibe **dólares** y devuelve **euros** ¡No es poco para ser tu primer programa!\n",
    "\n",
    "Tu máquina va a necesitar disponer de variables que le brinden la siguiente información:\n",
    "- Nombre del usuario\n",
    "- Fecha en que se realiza la operación\n",
    "- Momento del día (día, tarde o noche)\n",
    "- Cantidad de dólares a cambiar\n",
    "\n",
    "Con todo eso, la máquina va a imprimir en pantalla (en diferentes líneas por supuesto) un mensaje que incluya los siguientes requisitos:\n",
    "\n",
    "- Un saludo de bienvenida\n",
    "- Información de la cantidad de dolares que va a entregar el usuario\n",
    "- Información de la cantidad de euros que va a recibir\n",
    "- Detalle específico de cuántos billetes de €10, de €1, y el saldo en monedas que le serán entregados\n",
    "- Un saludo de despedida\n",
    "\n",
    "### Nota importante\n",
    "No hay una única manera de hacer esto. En programación siempre hay muchos caminos para lograr el mismo objetivo. Mientras que logres cumplir con la consigna, cualquier abordaje (sensato) es válido.\n",
    "\n",
    "En las siguientes celdas te iré proporcionando las instrucciones específica para que puedas desarrollar el proyecto paso a paso. De todos modos, si te sientes valiente, puedes abrir un nuevo cuaderno en blanco y hacerlo todo desde cero por tí mismo. Si lo logras, felicitaciones, pero si te encuentras bloqueado en algún momento, nada de sentir vergüenza. Te vuelves a este cuaderno, y lo sigues con mis instrucciones.\n",
    "\n",
    "### Nota sumer-mega-archi importante\n",
    "La idea no sólo es aprender, sino fundamentalmente divertirse. Programar es hermoso, es desafiante, es la oportunidad de concentrarnos en un problema y poner lo mejor de nosotros para resolverlo.\n",
    "\n",
    "Eso no significa que si no lo puedes resolver no te vas a divertir. Todo lo contrario. Si bien resolver problemas por uno mismo es emocionante y excitante, una de las sensaciones más placenteras que he experimentado, es creer que algo es imposible, y que luego alguien en quien confío me muestre el camino para lograrlo. Se llama \"momento Eureka\", y espero que te atrevas a experimentarlo tu también.\n",
    "<br>\n",
    "<br>\n",
    "<br>"
   ]
  },
  {
   "cell_type": "markdown",
   "id": "03b0570d",
   "metadata": {},
   "source": [
    "## Instrucciones paso a paso\n",
    "\n",
    "1. Escribe el código necesario para saludar al usuario, antes de comenzar sus operaciones. Vas a crear tres variables que contengan, respectivamente, el **nombre** del usuario, la **fecha** del día en que está haciendo la operación, y un **saludo** que puede ser *Buenos días*, *Buenas tardes* o *Buenas noches*."
   ]
  },
  {
   "cell_type": "code",
   "execution_count": 1,
   "id": "1d831394",
   "metadata": {},
   "outputs": [],
   "source": [
    "nombre = \"Pablo Pombo\"\n",
    "fecha = \"29/05/2025\"\n",
    "saludo = \"Buenas noches\""
   ]
  },
  {
   "cell_type": "markdown",
   "id": "0107668a",
   "metadata": {},
   "source": [
    "2. Crea una variable llamada **bienvenida** que concatene toda la información anterior en un solo mensaje que salude al usuario  que va a usar el servicio de cambio de divisas. Puedes poner la creatividad que gustes en este mensaje.\n",
    "\n",
    "**Pista**: Recuerda que en la lección operaciones vimos cómo puedes concatenar strings para formar una sola cadena de texto."
   ]
  },
  {
   "cell_type": "code",
   "execution_count": 3,
   "id": "eb011cf0",
   "metadata": {},
   "outputs": [
    {
     "data": {
      "text/plain": [
       "'Hola Pablo Pombo Buenas noches, te envio un saludo el dia de hoy que es 29/05/2025'"
      ]
     },
     "execution_count": 3,
     "metadata": {},
     "output_type": "execute_result"
    }
   ],
   "source": [
    "bienvenida = f\"Hola {nombre} {saludo}, te envio un saludo el dia de hoy que es {fecha}\"\n",
    "bienvenida"
   ]
  },
  {
   "cell_type": "markdown",
   "id": "11ebd166",
   "metadata": {},
   "source": [
    "3. Crea una variable numérica llamada **dolares** que almacene la cantidad de dólares que quieres cambiar por euros. Ten en cuenta que los valores en *moneda* suelen expresarse con números decimales, por lo que sería ideal utilizar un valor de tipo **float**."
   ]
  },
  {
   "cell_type": "code",
   "execution_count": 23,
   "id": "4a65fdf7",
   "metadata": {},
   "outputs": [],
   "source": [
    "dolares = 60"
   ]
  },
  {
   "cell_type": "markdown",
   "id": "8fc42727",
   "metadata": {},
   "source": [
    "4. Crea una variable llamada **euros_a_recibir** que guarde el resultado de calcular cuántos euros corresponden para la cantidad de dolares ingresada en la variable **dolares**. El tipo de cambio que usaremos es de *0.88*."
   ]
  },
  {
   "cell_type": "code",
   "execution_count": 24,
   "id": "cada2ca6",
   "metadata": {},
   "outputs": [
    {
     "data": {
      "text/plain": [
       "51.0"
      ]
     },
     "execution_count": 24,
     "metadata": {},
     "output_type": "execute_result"
    }
   ],
   "source": [
    "euros_a_recibir = dolares *0.85\n",
    "euros_a_recibir"
   ]
  },
  {
   "cell_type": "markdown",
   "id": "66eabb60",
   "metadata": {},
   "source": [
    "5. Nuestra máquina (imaginaria), solo entrega billetes de €10, y de €1 (los decimales los entregará en monedas). Crea 3 variables para cada uno de esos valores (**billetes_10**, **billetes_1** y **monedas**), que contengan los cálculos necesarios para saber cuánto valor en monedas, y cuántos billetes de cada tipo recibirá el usuario."
   ]
  },
  {
   "cell_type": "code",
   "execution_count": 25,
   "id": "e464555d",
   "metadata": {},
   "outputs": [
    {
     "name": "stdout",
     "output_type": "stream",
     "text": [
      "5 1 0\n"
     ]
    }
   ],
   "source": [
    "billetes_10=int(euros_a_recibir//10)\n",
    "billetes_1=int(euros_a_recibir//1)-(billetes_10*10)\n",
    "monedas=int((euros_a_recibir -(billetes_10*10 + billetes_1))*100)\n",
    "\n",
    "print(billetes_10, billetes_1, monedas)"
   ]
  },
  {
   "cell_type": "code",
   "execution_count": 14,
   "id": "0f6c8ae9",
   "metadata": {},
   "outputs": [
    {
     "data": {
      "text/plain": [
       "33.0"
      ]
     },
     "execution_count": 14,
     "metadata": {},
     "output_type": "execute_result"
    }
   ],
   "source": [
    "euros_a_recibir//1"
   ]
  },
  {
   "cell_type": "code",
   "execution_count": null,
   "id": "0f20c4dc",
   "metadata": {},
   "outputs": [],
   "source": []
  },
  {
   "cell_type": "markdown",
   "id": "a04f72df",
   "metadata": {},
   "source": [
    "6. Finalmente escribe una serie de declaraciones **print()** que expresen el mensaje completo, mostrando los siguientes elementos:\n",
    "- Mensaje de bienvenida\n",
    "- Información sobre los dólares que entregará\n",
    "- Información sobre los euros que recibirá\n",
    "- Detalle de billetes y monedas que le serán entregados\n",
    "- Saludo de despedida\n",
    "\n",
    "**Importante**: Cómo aún no hemos aprendido a concatenar números y texto en la misma línea de impresión, en muchas ocaciones deberás crear líneas separadas para que el mensaje se muestre como en el siguiente ejemplo:\n",
    "\n",
    "```\n",
    "Dolares a entregar:\n",
    "150.45\n",
    "```\n"
   ]
  },
  {
   "cell_type": "code",
   "execution_count": 27,
   "id": "23786052",
   "metadata": {},
   "outputs": [
    {
     "name": "stdout",
     "output_type": "stream",
     "text": [
      "Hola Pablo Pombo Buenas noches, te envio un saludo el dia de hoy que es 29/05/2025\n",
      "Los dolares ingreados son los siguientes: 60\n",
      "Recibiras la cantidad de 51.0 euros\n",
      "Recibiras 5 billetes de 10, 1 billetes de 1 y 0 centavos\n",
      "Ten un buen dia\n"
     ]
    }
   ],
   "source": [
    "print(bienvenida)\n",
    "print(f\"Los dolares ingreados son los siguientes: {dolares}\")\n",
    "print(f\"Recibiras la cantidad de {euros_a_recibir} euros\")\n",
    "print(f\"Recibiras {billetes_10} billetes de 10, {billetes_1} billetes de 1 y {monedas} centavos\")\n",
    "print(\"Ten un buen dia\")"
   ]
  },
  {
   "cell_type": "code",
   "execution_count": null,
   "id": "6fa7e1fd",
   "metadata": {},
   "outputs": [],
   "source": []
  },
  {
   "cell_type": "code",
   "execution_count": 3,
   "id": "ebec773a",
   "metadata": {},
   "outputs": [
    {
     "data": {
      "text/plain": [
       "(5+4j)"
      ]
     },
     "execution_count": 3,
     "metadata": {},
     "output_type": "execute_result"
    }
   ],
   "source": [
    "complex(5,4)"
   ]
  },
  {
   "cell_type": "code",
   "execution_count": null,
   "id": "936fcd4f",
   "metadata": {},
   "outputs": [],
   "source": []
  }
 ],
 "metadata": {
  "kernelspec": {
   "display_name": "Python 3 (ipykernel)",
   "language": "python",
   "name": "python3"
  },
  "language_info": {
   "codemirror_mode": {
    "name": "ipython",
    "version": 3
   },
   "file_extension": ".py",
   "mimetype": "text/x-python",
   "name": "python",
   "nbconvert_exporter": "python",
   "pygments_lexer": "ipython3",
   "version": "3.10.9"
  }
 },
 "nbformat": 4,
 "nbformat_minor": 5
}
