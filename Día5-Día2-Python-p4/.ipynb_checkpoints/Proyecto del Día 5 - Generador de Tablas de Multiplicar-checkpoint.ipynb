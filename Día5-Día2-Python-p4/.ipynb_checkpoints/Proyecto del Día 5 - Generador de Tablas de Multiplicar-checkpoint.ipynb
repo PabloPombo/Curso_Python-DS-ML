{
 "cells": [
  {
   "cell_type": "markdown",
   "id": "a948c51c",
   "metadata": {},
   "source": [
    "# Proyecto del Día 5: Generador de Tablas de Multiplicar"
   ]
  },
  {
   "cell_type": "markdown",
   "id": "e8159936",
   "metadata": {},
   "source": [
    "\n",
    "Este proyecto de Python permite al usuario generar tablas de multiplicar para cualquier número y hasta un límite específico de multiplicación.\n",
    "\n",
    "## Consigna\n",
    "Vas a crear un código que le pida al usuario un **número para multiplicar**, y un **número límite** para establecer hasta cuánto lo vamos a multiplicar.\n",
    "\n",
    "Por ejemplo, si el usuario elige:\n",
    "- Número: 5\n",
    "- Límite: 3\n",
    "\n",
    "El programa le devolverá:\n",
    "```\n",
    "5 x 1 = 5\n",
    "5 x 2 = 10\n",
    "5 x 3 = 15\n",
    "````\n",
    "\n",
    "Cuando el programa termine de mostrar los resultados, debe preguntarle al usuario si desea calcular otra tabla, o finalizar el programa.\n",
    "\n",
    "**Recomendaciones**:\n",
    "- Crear una función que se encargue de calcular las tablas\n",
    "- Crear una función global que se encargue de:\n",
    "    - Solicitar al usuario un número para generar su tabla de multiplicar.\n",
    "    - Pedir el límite hasta donde se quiere llegar en la multiplicación.\n",
    "    - Llamar a la función que crea las tablas\n",
    "    \n",
    "- Emplear bucles `for` y la función `range` para la lógica de la tabla.\n",
    "- Implementar un bucle `while` para que el usuario pueda generar múltiples tablas o salir del programa.\n"
   ]
  },
  {
   "cell_type": "code",
   "execution_count": 1,
   "id": "39ac3e8e",
   "metadata": {},
   "outputs": [],
   "source": [
    "def problema():\n",
    "    a = 0\n",
    "    while (a==0):\n",
    "        numerom=int(input(\"Dame un numero para multiplicar: \"))\n",
    "        numerol=int(input(\"Dame un numero limite de la multiplicacion: \"))\n",
    "    \n",
    "        print(\"El resultado es el siguiente: \")\n",
    "        for n in range(numerol):\n",
    "            print(f\"{numerom} x {n + 1} = {numerom * n+1}\")\n",
    "       \n",
    "        \n",
    "        j = input(\"Si deseas salir del programa teclea 's'y luego enter, si deseas realizar otra tabla, presiona cualquier otra tecla y luego enter: \")\n",
    "        if j == \"s\":\n",
    "            a = 1\n",
    "        else:\n",
    "            a = 0\n",
    "    "
   ]
  },
  {
   "cell_type": "code",
   "execution_count": 2,
   "id": "c3d271b2",
   "metadata": {},
   "outputs": [
    {
     "name": "stdout",
     "output_type": "stream",
     "text": [
      "Dame un numero para multiplicar: 60\n",
      "Dame un numero limite de la multiplicacion: 30\n",
      "El resultado es el siguiente: \n",
      "60 x 1 = 1\n",
      "60 x 2 = 61\n",
      "60 x 3 = 121\n",
      "60 x 4 = 181\n",
      "60 x 5 = 241\n",
      "60 x 6 = 301\n",
      "60 x 7 = 361\n",
      "60 x 8 = 421\n",
      "60 x 9 = 481\n",
      "60 x 10 = 541\n",
      "60 x 11 = 601\n",
      "60 x 12 = 661\n",
      "60 x 13 = 721\n",
      "60 x 14 = 781\n",
      "60 x 15 = 841\n",
      "60 x 16 = 901\n",
      "60 x 17 = 961\n",
      "60 x 18 = 1021\n",
      "60 x 19 = 1081\n",
      "60 x 20 = 1141\n",
      "60 x 21 = 1201\n",
      "60 x 22 = 1261\n",
      "60 x 23 = 1321\n",
      "60 x 24 = 1381\n",
      "60 x 25 = 1441\n",
      "60 x 26 = 1501\n",
      "60 x 27 = 1561\n",
      "60 x 28 = 1621\n",
      "60 x 29 = 1681\n",
      "60 x 30 = 1741\n",
      "Si deseas salir del programa teclea 's'y luego enter, si deseas realizar otra tabla, presiona cualquier otra tecla y luego enter: s\n"
     ]
    }
   ],
   "source": [
    "problema()"
   ]
  },
  {
   "cell_type": "code",
   "execution_count": null,
   "id": "68a6bc4e",
   "metadata": {},
   "outputs": [],
   "source": []
  },
  {
   "cell_type": "code",
   "execution_count": 1,
   "id": "2b0b02fd",
   "metadata": {},
   "outputs": [
    {
     "data": {
      "text/plain": [
       "range(0, 5)"
      ]
     },
     "execution_count": 1,
     "metadata": {},
     "output_type": "execute_result"
    }
   ],
   "source": []
  },
  {
   "cell_type": "code",
   "execution_count": null,
   "id": "73bc3ee9",
   "metadata": {},
   "outputs": [],
   "source": []
  },
  {
   "cell_type": "code",
   "execution_count": null,
   "id": "8b6127e0",
   "metadata": {},
   "outputs": [],
   "source": []
  },
  {
   "cell_type": "code",
   "execution_count": null,
   "id": "44c7d52c",
   "metadata": {},
   "outputs": [],
   "source": []
  }
 ],
 "metadata": {
  "kernelspec": {
   "display_name": "Python 3 (ipykernel)",
   "language": "python",
   "name": "python3"
  },
  "language_info": {
   "codemirror_mode": {
    "name": "ipython",
    "version": 3
   },
   "file_extension": ".py",
   "mimetype": "text/x-python",
   "name": "python",
   "nbconvert_exporter": "python",
   "pygments_lexer": "ipython3",
   "version": "3.10.9"
  }
 },
 "nbformat": 4,
 "nbformat_minor": 5
}
