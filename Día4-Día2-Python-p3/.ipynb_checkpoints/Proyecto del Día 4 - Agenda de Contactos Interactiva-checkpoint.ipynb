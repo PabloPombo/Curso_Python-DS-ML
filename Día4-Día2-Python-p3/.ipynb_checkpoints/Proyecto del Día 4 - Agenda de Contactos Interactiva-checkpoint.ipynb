{
 "cells": [
  {
   "cell_type": "markdown",
   "id": "0d153c56",
   "metadata": {},
   "source": [
    "# Proyecto del Día 4: Agenda de Contactos Interactiva\n",
    "\n",
    "### Objetivo\n",
    "Crear una agenda de contactos utilizando Python, aplicando los conceptos aprendidos sobre listas, tuplas, diccionarios, booleanos y estructuras de control.\n",
    "\n",
    "\n",
    "### Consigna\n",
    "Cada vez que inicies tu agenda, va a comenzar preguntándole al usuario cuál de estas opciones prefiere:\n",
    "1. **Añadir un contacto**: Crear un nuevo registro en la agenda (nombre, telefono).\n",
    "2. **Buscar un contacto**: Buscar un contacto por nombre y mostrar su teléfono, o un mensaje de error si no lo encuentra.\n",
    "3. **Editar un contacto**: Modificar teléfono de un contacto existente.\n",
    "4. **Eliminar un contacto**: Eliminar un contacto de la agenda (investiga los métodos disponibles para lograrlo)\n",
    "5. **Mostrar todos los contactos**: Mostrar todos los contactos guardados en la agenda.\n",
    "\n",
    "El usuario elegirá una de esas opciones, y el programa ejecutará el código correspondiente para procesar su pedido y mostrarle el resultado.\n",
    "\n",
    "\n",
    "### Notas y Ayudas\n",
    "- Debido a que vas a almacenar pares de datos (nombre y teléfono) ¿cuál crees que sería la mejor estructura de datos para guardarlos: **listas**, **tuplas** o **diccionarios**?\n",
    "- Algunas de las funcionalidades de tu agenda, pueden requerir que investigues algunos métodos que no hemos visto en las lecciones, pero que podrás descubrir con *type*, *dir* y *help*.\n",
    "<br>  \n",
    "<br>\n",
    "<br>"
   ]
  },
  {
   "cell_type": "markdown",
   "id": "c6c4ab9d",
   "metadata": {},
   "source": [
    "## Resolución"
   ]
  },
  {
   "cell_type": "markdown",
   "id": "cb507a52",
   "metadata": {},
   "source": [
    "Crea una agenda vacía"
   ]
  },
  {
   "cell_type": "code",
   "execution_count": 5,
   "id": "e9c026bd",
   "metadata": {},
   "outputs": [],
   "source": [
    "dic={}"
   ]
  },
  {
   "cell_type": "markdown",
   "id": "be7b6b93",
   "metadata": {},
   "source": [
    "En la siguiente celda, incluye el código para ejecutar las siguientes instrucciones:\n",
    "- Mostrar en pantalla las opciones\n",
    "- Pedirle al usuario que elija las opciones\n",
    "- Crear una estructura de control (*if*, *elif* y *else*) que ejecute diferentes bloques de código según las opciones elegidas."
   ]
  },
  {
   "cell_type": "code",
   "execution_count": 38,
   "id": "45fbcf91",
   "metadata": {},
   "outputs": [],
   "source": [
    "def agenda():\n",
    "    \n",
    "    print(\"Menú:\\n 1.-Añadir Contacto\\n 2.-Buscar Contacto\\n 3.-Editar Contacto\\n 4.-Eliminar Contacto\\n 5.-Mostrat todos los contactos\")\n",
    "    actividad=input(\"Escoja la actividad a realizar: \")\n",
    "    \n",
    "    if actividad == \"1\":\n",
    "        nombre = input(\"Escribe el Nombre de la persona que se añadira: \")\n",
    "        numero = input(f\"Escribe el numero de {nombre}: \")\n",
    "        dic[nombre]=numero\n",
    "    elif actividad == \"2\":\n",
    "        nombre = input(\"Escribe el Nombre de la persona para buscar: \")\n",
    "        print(f\"El numero asignado a {nombre} es: {dic[nombre]}\")\n",
    "    elif actividad == \"3\":\n",
    "        nombre = input(\"Escribe el Nombre de la persona para editar numero: \")\n",
    "        numero = input(\"Escribe el nuevo numero par asignar: \")\n",
    "        dic[nombre]=numero\n",
    "    elif actividad == \"4\":\n",
    "        nombre = input(\"Escribe el Nombre de la persona a eliminar: \")\n",
    "        dic.pop(nombre)\n",
    "        print(f\"{nombre} eliminado de la agenda\")\n",
    "    else:\n",
    "        print(dic)"
   ]
  },
  {
   "cell_type": "code",
   "execution_count": 40,
   "id": "2feaba7a",
   "metadata": {},
   "outputs": [
    {
     "name": "stdout",
     "output_type": "stream",
     "text": [
      "Menú:\n",
      " 1.-Añadir Contacto\n",
      " 2.-Buscar Contacto\n",
      " 3.-Editar Contacto\n",
      " 4.-Eliminar Contacto\n",
      " 5.-Mostrat todos los contactos\n",
      "Escoja la actividad a realizar: 5\n",
      "{'juan': 234, 'Pablo': '34567890'}\n"
     ]
    }
   ],
   "source": [
    "agenda()"
   ]
  },
  {
   "cell_type": "code",
   "execution_count": null,
   "id": "075f26f3",
   "metadata": {},
   "outputs": [],
   "source": []
  },
  {
   "cell_type": "code",
   "execution_count": null,
   "id": "4a73df8f",
   "metadata": {},
   "outputs": [],
   "source": []
  }
 ],
 "metadata": {
  "kernelspec": {
   "display_name": "Python 3 (ipykernel)",
   "language": "python",
   "name": "python3"
  },
  "language_info": {
   "codemirror_mode": {
    "name": "ipython",
    "version": 3
   },
   "file_extension": ".py",
   "mimetype": "text/x-python",
   "name": "python",
   "nbconvert_exporter": "python",
   "pygments_lexer": "ipython3",
   "version": "3.10.9"
  }
 },
 "nbformat": 4,
 "nbformat_minor": 5
}
