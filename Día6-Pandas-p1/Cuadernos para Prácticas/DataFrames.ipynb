{
 "cells": [
  {
   "cell_type": "code",
   "execution_count": 2,
   "id": "fe54ce1b",
   "metadata": {},
   "outputs": [],
   "source": [
    "import pandas as pd"
   ]
  },
  {
   "cell_type": "code",
   "execution_count": 3,
   "id": "130dfd23",
   "metadata": {},
   "outputs": [],
   "source": [
    "datos = pd.DataFrame()"
   ]
  },
  {
   "cell_type": "code",
   "execution_count": 5,
   "id": "15800eb5",
   "metadata": {},
   "outputs": [
    {
     "data": {
      "text/plain": [
       "pandas.core.frame.DataFrame"
      ]
     },
     "execution_count": 5,
     "metadata": {},
     "output_type": "execute_result"
    }
   ],
   "source": [
    "type(datos)"
   ]
  },
  {
   "cell_type": "code",
   "execution_count": 22,
   "id": "893ee1a3",
   "metadata": {},
   "outputs": [],
   "source": [
    "import pandas as pd\n",
    "df_empleados = {\"nombre\":['Ana', 'Luis' , 'Carlos'], \"edad\":[30, 25, 40]}\n",
    "df_empleados = pd.DataFrame(df_empleados)"
   ]
  },
  {
   "cell_type": "code",
   "execution_count": 23,
   "id": "f0eccda7",
   "metadata": {},
   "outputs": [
    {
     "data": {
      "text/html": [
       "<div>\n",
       "<style scoped>\n",
       "    .dataframe tbody tr th:only-of-type {\n",
       "        vertical-align: middle;\n",
       "    }\n",
       "\n",
       "    .dataframe tbody tr th {\n",
       "        vertical-align: top;\n",
       "    }\n",
       "\n",
       "    .dataframe thead th {\n",
       "        text-align: right;\n",
       "    }\n",
       "</style>\n",
       "<table border=\"1\" class=\"dataframe\">\n",
       "  <thead>\n",
       "    <tr style=\"text-align: right;\">\n",
       "      <th></th>\n",
       "      <th>nombre</th>\n",
       "      <th>edad</th>\n",
       "    </tr>\n",
       "  </thead>\n",
       "  <tbody>\n",
       "    <tr>\n",
       "      <th>0</th>\n",
       "      <td>Ana</td>\n",
       "      <td>30</td>\n",
       "    </tr>\n",
       "    <tr>\n",
       "      <th>1</th>\n",
       "      <td>Luis</td>\n",
       "      <td>25</td>\n",
       "    </tr>\n",
       "    <tr>\n",
       "      <th>2</th>\n",
       "      <td>Carlos</td>\n",
       "      <td>40</td>\n",
       "    </tr>\n",
       "  </tbody>\n",
       "</table>\n",
       "</div>"
      ],
      "text/plain": [
       "   nombre  edad\n",
       "0     Ana    30\n",
       "1    Luis    25\n",
       "2  Carlos    40"
      ]
     },
     "execution_count": 23,
     "metadata": {},
     "output_type": "execute_result"
    }
   ],
   "source": [
    "df_empleados"
   ]
  },
  {
   "cell_type": "code",
   "execution_count": 32,
   "id": "49303946",
   "metadata": {},
   "outputs": [
    {
     "name": "stdout",
     "output_type": "stream",
     "text": [
      "(3, 2) Index(['nombre', 'edad'], dtype='object') RangeIndex(start=0, stop=3, step=1)\n"
     ]
    }
   ],
   "source": [
    "index_df=df_empleados.index\n",
    "columns_df=df_empleados.columns\n",
    "shape_df=df_empleados.shape\n",
    "print(shape_df, columns_df, index_df)"
   ]
  },
  {
   "cell_type": "code",
   "execution_count": 30,
   "id": "aa3c77fd",
   "metadata": {},
   "outputs": [
    {
     "data": {
      "text/plain": [
       "(3, 2)"
      ]
     },
     "execution_count": 30,
     "metadata": {},
     "output_type": "execute_result"
    }
   ],
   "source": []
  },
  {
   "cell_type": "code",
   "execution_count": 31,
   "id": "9009f45d",
   "metadata": {},
   "outputs": [
    {
     "data": {
      "text/plain": [
       "Index(['nombre', 'edad'], dtype='object')"
      ]
     },
     "execution_count": 31,
     "metadata": {},
     "output_type": "execute_result"
    }
   ],
   "source": []
  },
  {
   "cell_type": "code",
   "execution_count": 34,
   "id": "4203c239",
   "metadata": {},
   "outputs": [],
   "source": [
    "df = pd.read_csv(\"C:/Users/Pablo\\Documents/Cursos UDEMY/Curso_Python-DS-ML/Curso_Python-DS-ML/Día6-Pandas-p1/Precipitaciones.csv\")"
   ]
  },
  {
   "cell_type": "code",
   "execution_count": 36,
   "id": "159b1ae7",
   "metadata": {},
   "outputs": [
    {
     "data": {
      "text/html": [
       "<div>\n",
       "<style scoped>\n",
       "    .dataframe tbody tr th:only-of-type {\n",
       "        vertical-align: middle;\n",
       "    }\n",
       "\n",
       "    .dataframe tbody tr th {\n",
       "        vertical-align: top;\n",
       "    }\n",
       "\n",
       "    .dataframe thead th {\n",
       "        text-align: right;\n",
       "    }\n",
       "</style>\n",
       "<table border=\"1\" class=\"dataframe\">\n",
       "  <thead>\n",
       "    <tr style=\"text-align: right;\">\n",
       "      <th></th>\n",
       "      <th>region</th>\n",
       "      <th>enero</th>\n",
       "      <th>febrero</th>\n",
       "      <th>marzo</th>\n",
       "      <th>abril</th>\n",
       "      <th>mayo</th>\n",
       "      <th>junio</th>\n",
       "      <th>julio</th>\n",
       "      <th>agosto</th>\n",
       "      <th>septiembre</th>\n",
       "      <th>octubre</th>\n",
       "      <th>noviembre</th>\n",
       "      <th>diciembre</th>\n",
       "      <th>anual</th>\n",
       "    </tr>\n",
       "  </thead>\n",
       "  <tbody>\n",
       "    <tr>\n",
       "      <th>0</th>\n",
       "      <td>A CORUNA</td>\n",
       "      <td>240.5</td>\n",
       "      <td>293.4</td>\n",
       "      <td>31.0</td>\n",
       "      <td>80.6</td>\n",
       "      <td>149.5</td>\n",
       "      <td>108.9</td>\n",
       "      <td>44.6</td>\n",
       "      <td>21.8</td>\n",
       "      <td>96.5</td>\n",
       "      <td>154.5</td>\n",
       "      <td>100.8</td>\n",
       "      <td>214.8</td>\n",
       "      <td>1536.9</td>\n",
       "    </tr>\n",
       "    <tr>\n",
       "      <th>1</th>\n",
       "      <td>ALBACETE</td>\n",
       "      <td>68.1</td>\n",
       "      <td>28.0</td>\n",
       "      <td>26.2</td>\n",
       "      <td>65.3</td>\n",
       "      <td>25.4</td>\n",
       "      <td>50.0</td>\n",
       "      <td>2.0</td>\n",
       "      <td>34.5</td>\n",
       "      <td>48.0</td>\n",
       "      <td>44.8</td>\n",
       "      <td>33.1</td>\n",
       "      <td>14.1</td>\n",
       "      <td>439.5</td>\n",
       "    </tr>\n",
       "    <tr>\n",
       "      <th>2</th>\n",
       "      <td>ALICANTE</td>\n",
       "      <td>49.2</td>\n",
       "      <td>3.7</td>\n",
       "      <td>63.2</td>\n",
       "      <td>85.8</td>\n",
       "      <td>57.2</td>\n",
       "      <td>20.0</td>\n",
       "      <td>9.2</td>\n",
       "      <td>5.0</td>\n",
       "      <td>44.0</td>\n",
       "      <td>41.1</td>\n",
       "      <td>47.4</td>\n",
       "      <td>1.8</td>\n",
       "      <td>427.6</td>\n",
       "    </tr>\n",
       "    <tr>\n",
       "      <th>3</th>\n",
       "      <td>ALMERIA</td>\n",
       "      <td>56.3</td>\n",
       "      <td>5.2</td>\n",
       "      <td>35.8</td>\n",
       "      <td>43.1</td>\n",
       "      <td>38.8</td>\n",
       "      <td>16.9</td>\n",
       "      <td>10.2</td>\n",
       "      <td>1.9</td>\n",
       "      <td>17.4</td>\n",
       "      <td>27.3</td>\n",
       "      <td>32.6</td>\n",
       "      <td>3.2</td>\n",
       "      <td>288.7</td>\n",
       "    </tr>\n",
       "    <tr>\n",
       "      <th>4</th>\n",
       "      <td>ARABA</td>\n",
       "      <td>96.8</td>\n",
       "      <td>79.9</td>\n",
       "      <td>38.0</td>\n",
       "      <td>52.0</td>\n",
       "      <td>37.7</td>\n",
       "      <td>107.8</td>\n",
       "      <td>8.5</td>\n",
       "      <td>17.7</td>\n",
       "      <td>63.3</td>\n",
       "      <td>38.5</td>\n",
       "      <td>212.2</td>\n",
       "      <td>197.3</td>\n",
       "      <td>949.7</td>\n",
       "    </tr>\n",
       "  </tbody>\n",
       "</table>\n",
       "</div>"
      ],
      "text/plain": [
       "     region  enero  febrero  marzo  abril   mayo  junio  julio  agosto  \\\n",
       "0  A CORUNA  240.5    293.4   31.0   80.6  149.5  108.9   44.6    21.8   \n",
       "1  ALBACETE   68.1     28.0   26.2   65.3   25.4   50.0    2.0    34.5   \n",
       "2  ALICANTE   49.2      3.7   63.2   85.8   57.2   20.0    9.2     5.0   \n",
       "3   ALMERIA   56.3      5.2   35.8   43.1   38.8   16.9   10.2     1.9   \n",
       "4     ARABA   96.8     79.9   38.0   52.0   37.7  107.8    8.5    17.7   \n",
       "\n",
       "   septiembre  octubre  noviembre  diciembre   anual  \n",
       "0        96.5    154.5      100.8      214.8  1536.9  \n",
       "1        48.0     44.8       33.1       14.1   439.5  \n",
       "2        44.0     41.1       47.4        1.8   427.6  \n",
       "3        17.4     27.3       32.6        3.2   288.7  \n",
       "4        63.3     38.5      212.2      197.3   949.7  "
      ]
     },
     "execution_count": 36,
     "metadata": {},
     "output_type": "execute_result"
    }
   ],
   "source": [
    "df.head()"
   ]
  },
  {
   "cell_type": "code",
   "execution_count": 37,
   "id": "66e5b88b",
   "metadata": {},
   "outputs": [
    {
     "name": "stdout",
     "output_type": "stream",
     "text": [
      "<class 'pandas.core.frame.DataFrame'>\n",
      "RangeIndex: 52 entries, 0 to 51\n",
      "Data columns (total 14 columns):\n",
      " #   Column      Non-Null Count  Dtype  \n",
      "---  ------      --------------  -----  \n",
      " 0   region      52 non-null     object \n",
      " 1   enero       52 non-null     float64\n",
      " 2   febrero     52 non-null     float64\n",
      " 3   marzo       52 non-null     float64\n",
      " 4   abril       52 non-null     float64\n",
      " 5   mayo        52 non-null     float64\n",
      " 6   junio       52 non-null     float64\n",
      " 7   julio       52 non-null     float64\n",
      " 8   agosto      52 non-null     float64\n",
      " 9   septiembre  52 non-null     float64\n",
      " 10  octubre     52 non-null     float64\n",
      " 11  noviembre   52 non-null     float64\n",
      " 12  diciembre   52 non-null     float64\n",
      " 13  anual       52 non-null     float64\n",
      "dtypes: float64(13), object(1)\n",
      "memory usage: 5.8+ KB\n"
     ]
    }
   ],
   "source": [
    "df.info()"
   ]
  },
  {
   "cell_type": "code",
   "execution_count": 38,
   "id": "926e02cf",
   "metadata": {},
   "outputs": [
    {
     "data": {
      "text/html": [
       "<div>\n",
       "<style scoped>\n",
       "    .dataframe tbody tr th:only-of-type {\n",
       "        vertical-align: middle;\n",
       "    }\n",
       "\n",
       "    .dataframe tbody tr th {\n",
       "        vertical-align: top;\n",
       "    }\n",
       "\n",
       "    .dataframe thead th {\n",
       "        text-align: right;\n",
       "    }\n",
       "</style>\n",
       "<table border=\"1\" class=\"dataframe\">\n",
       "  <thead>\n",
       "    <tr style=\"text-align: right;\">\n",
       "      <th></th>\n",
       "      <th>enero</th>\n",
       "      <th>febrero</th>\n",
       "      <th>marzo</th>\n",
       "      <th>abril</th>\n",
       "      <th>mayo</th>\n",
       "      <th>junio</th>\n",
       "      <th>julio</th>\n",
       "      <th>agosto</th>\n",
       "      <th>septiembre</th>\n",
       "      <th>octubre</th>\n",
       "      <th>noviembre</th>\n",
       "      <th>diciembre</th>\n",
       "      <th>anual</th>\n",
       "    </tr>\n",
       "  </thead>\n",
       "  <tbody>\n",
       "    <tr>\n",
       "      <th>count</th>\n",
       "      <td>52.000000</td>\n",
       "      <td>52.000000</td>\n",
       "      <td>52.000000</td>\n",
       "      <td>52.000000</td>\n",
       "      <td>52.000000</td>\n",
       "      <td>52.000000</td>\n",
       "      <td>52.000000</td>\n",
       "      <td>52.000000</td>\n",
       "      <td>52.000000</td>\n",
       "      <td>52.000000</td>\n",
       "      <td>52.000000</td>\n",
       "      <td>52.000000</td>\n",
       "      <td>52.000000</td>\n",
       "    </tr>\n",
       "    <tr>\n",
       "      <th>mean</th>\n",
       "      <td>92.996154</td>\n",
       "      <td>78.632692</td>\n",
       "      <td>26.684615</td>\n",
       "      <td>64.500000</td>\n",
       "      <td>38.305769</td>\n",
       "      <td>54.182692</td>\n",
       "      <td>11.840385</td>\n",
       "      <td>17.178846</td>\n",
       "      <td>62.246154</td>\n",
       "      <td>54.373077</td>\n",
       "      <td>82.494231</td>\n",
       "      <td>76.192308</td>\n",
       "      <td>659.626923</td>\n",
       "    </tr>\n",
       "    <tr>\n",
       "      <th>std</th>\n",
       "      <td>57.127171</td>\n",
       "      <td>67.454280</td>\n",
       "      <td>31.473913</td>\n",
       "      <td>21.421942</td>\n",
       "      <td>29.079576</td>\n",
       "      <td>36.821635</td>\n",
       "      <td>13.256390</td>\n",
       "      <td>13.939496</td>\n",
       "      <td>28.581205</td>\n",
       "      <td>36.619785</td>\n",
       "      <td>91.689789</td>\n",
       "      <td>80.409042</td>\n",
       "      <td>352.905548</td>\n",
       "    </tr>\n",
       "    <tr>\n",
       "      <th>min</th>\n",
       "      <td>26.800000</td>\n",
       "      <td>2.300000</td>\n",
       "      <td>3.300000</td>\n",
       "      <td>3.500000</td>\n",
       "      <td>0.700000</td>\n",
       "      <td>1.100000</td>\n",
       "      <td>0.000000</td>\n",
       "      <td>0.000000</td>\n",
       "      <td>0.900000</td>\n",
       "      <td>1.000000</td>\n",
       "      <td>7.100000</td>\n",
       "      <td>1.800000</td>\n",
       "      <td>108.200000</td>\n",
       "    </tr>\n",
       "    <tr>\n",
       "      <th>25%</th>\n",
       "      <td>53.825000</td>\n",
       "      <td>32.825000</td>\n",
       "      <td>9.125000</td>\n",
       "      <td>53.950000</td>\n",
       "      <td>18.875000</td>\n",
       "      <td>26.325000</td>\n",
       "      <td>1.600000</td>\n",
       "      <td>4.850000</td>\n",
       "      <td>46.000000</td>\n",
       "      <td>29.825000</td>\n",
       "      <td>32.375000</td>\n",
       "      <td>22.075000</td>\n",
       "      <td>455.925000</td>\n",
       "    </tr>\n",
       "    <tr>\n",
       "      <th>50%</th>\n",
       "      <td>73.950000</td>\n",
       "      <td>62.600000</td>\n",
       "      <td>17.200000</td>\n",
       "      <td>62.700000</td>\n",
       "      <td>35.650000</td>\n",
       "      <td>50.400000</td>\n",
       "      <td>6.150000</td>\n",
       "      <td>16.500000</td>\n",
       "      <td>62.300000</td>\n",
       "      <td>46.550000</td>\n",
       "      <td>46.950000</td>\n",
       "      <td>47.950000</td>\n",
       "      <td>548.550000</td>\n",
       "    </tr>\n",
       "    <tr>\n",
       "      <th>75%</th>\n",
       "      <td>97.300000</td>\n",
       "      <td>102.550000</td>\n",
       "      <td>35.425000</td>\n",
       "      <td>77.625000</td>\n",
       "      <td>48.750000</td>\n",
       "      <td>78.025000</td>\n",
       "      <td>17.875000</td>\n",
       "      <td>26.550000</td>\n",
       "      <td>81.625000</td>\n",
       "      <td>74.500000</td>\n",
       "      <td>102.725000</td>\n",
       "      <td>107.000000</td>\n",
       "      <td>665.150000</td>\n",
       "    </tr>\n",
       "    <tr>\n",
       "      <th>max</th>\n",
       "      <td>261.900000</td>\n",
       "      <td>335.700000</td>\n",
       "      <td>209.800000</td>\n",
       "      <td>128.400000</td>\n",
       "      <td>149.500000</td>\n",
       "      <td>145.000000</td>\n",
       "      <td>46.800000</td>\n",
       "      <td>57.000000</td>\n",
       "      <td>122.800000</td>\n",
       "      <td>175.700000</td>\n",
       "      <td>384.600000</td>\n",
       "      <td>314.700000</td>\n",
       "      <td>1575.400000</td>\n",
       "    </tr>\n",
       "  </tbody>\n",
       "</table>\n",
       "</div>"
      ],
      "text/plain": [
       "            enero     febrero       marzo       abril        mayo       junio  \\\n",
       "count   52.000000   52.000000   52.000000   52.000000   52.000000   52.000000   \n",
       "mean    92.996154   78.632692   26.684615   64.500000   38.305769   54.182692   \n",
       "std     57.127171   67.454280   31.473913   21.421942   29.079576   36.821635   \n",
       "min     26.800000    2.300000    3.300000    3.500000    0.700000    1.100000   \n",
       "25%     53.825000   32.825000    9.125000   53.950000   18.875000   26.325000   \n",
       "50%     73.950000   62.600000   17.200000   62.700000   35.650000   50.400000   \n",
       "75%     97.300000  102.550000   35.425000   77.625000   48.750000   78.025000   \n",
       "max    261.900000  335.700000  209.800000  128.400000  149.500000  145.000000   \n",
       "\n",
       "           julio     agosto  septiembre     octubre   noviembre   diciembre  \\\n",
       "count  52.000000  52.000000   52.000000   52.000000   52.000000   52.000000   \n",
       "mean   11.840385  17.178846   62.246154   54.373077   82.494231   76.192308   \n",
       "std    13.256390  13.939496   28.581205   36.619785   91.689789   80.409042   \n",
       "min     0.000000   0.000000    0.900000    1.000000    7.100000    1.800000   \n",
       "25%     1.600000   4.850000   46.000000   29.825000   32.375000   22.075000   \n",
       "50%     6.150000  16.500000   62.300000   46.550000   46.950000   47.950000   \n",
       "75%    17.875000  26.550000   81.625000   74.500000  102.725000  107.000000   \n",
       "max    46.800000  57.000000  122.800000  175.700000  384.600000  314.700000   \n",
       "\n",
       "             anual  \n",
       "count    52.000000  \n",
       "mean    659.626923  \n",
       "std     352.905548  \n",
       "min     108.200000  \n",
       "25%     455.925000  \n",
       "50%     548.550000  \n",
       "75%     665.150000  \n",
       "max    1575.400000  "
      ]
     },
     "execution_count": 38,
     "metadata": {},
     "output_type": "execute_result"
    }
   ],
   "source": [
    "df.describe()"
   ]
  },
  {
   "cell_type": "code",
   "execution_count": 39,
   "id": "a2502b38",
   "metadata": {},
   "outputs": [
    {
     "data": {
      "text/html": [
       "<div>\n",
       "<style scoped>\n",
       "    .dataframe tbody tr th:only-of-type {\n",
       "        vertical-align: middle;\n",
       "    }\n",
       "\n",
       "    .dataframe tbody tr th {\n",
       "        vertical-align: top;\n",
       "    }\n",
       "\n",
       "    .dataframe thead th {\n",
       "        text-align: right;\n",
       "    }\n",
       "</style>\n",
       "<table border=\"1\" class=\"dataframe\">\n",
       "  <thead>\n",
       "    <tr style=\"text-align: right;\">\n",
       "      <th></th>\n",
       "      <th>region</th>\n",
       "      <th>enero</th>\n",
       "      <th>febrero</th>\n",
       "      <th>marzo</th>\n",
       "      <th>abril</th>\n",
       "      <th>mayo</th>\n",
       "      <th>junio</th>\n",
       "      <th>julio</th>\n",
       "      <th>agosto</th>\n",
       "      <th>septiembre</th>\n",
       "      <th>octubre</th>\n",
       "      <th>noviembre</th>\n",
       "      <th>diciembre</th>\n",
       "      <th>anual</th>\n",
       "    </tr>\n",
       "  </thead>\n",
       "  <tbody>\n",
       "    <tr>\n",
       "      <th>47</th>\n",
       "      <td>TOLEDO</td>\n",
       "      <td>83.0</td>\n",
       "      <td>51.1</td>\n",
       "      <td>7.5</td>\n",
       "      <td>62.5</td>\n",
       "      <td>15.0</td>\n",
       "      <td>27.1</td>\n",
       "      <td>3.3</td>\n",
       "      <td>18.6</td>\n",
       "      <td>70.5</td>\n",
       "      <td>94.7</td>\n",
       "      <td>16.4</td>\n",
       "      <td>29.9</td>\n",
       "      <td>479.6</td>\n",
       "    </tr>\n",
       "    <tr>\n",
       "      <th>48</th>\n",
       "      <td>VALENCIA</td>\n",
       "      <td>61.9</td>\n",
       "      <td>16.8</td>\n",
       "      <td>49.3</td>\n",
       "      <td>86.4</td>\n",
       "      <td>33.8</td>\n",
       "      <td>34.2</td>\n",
       "      <td>17.1</td>\n",
       "      <td>30.9</td>\n",
       "      <td>99.3</td>\n",
       "      <td>46.1</td>\n",
       "      <td>46.6</td>\n",
       "      <td>5.5</td>\n",
       "      <td>527.9</td>\n",
       "    </tr>\n",
       "    <tr>\n",
       "      <th>49</th>\n",
       "      <td>VALLADOLID</td>\n",
       "      <td>29.2</td>\n",
       "      <td>69.1</td>\n",
       "      <td>4.1</td>\n",
       "      <td>65.1</td>\n",
       "      <td>24.3</td>\n",
       "      <td>58.3</td>\n",
       "      <td>1.9</td>\n",
       "      <td>3.8</td>\n",
       "      <td>54.1</td>\n",
       "      <td>40.2</td>\n",
       "      <td>41.7</td>\n",
       "      <td>35.9</td>\n",
       "      <td>427.7</td>\n",
       "    </tr>\n",
       "    <tr>\n",
       "      <th>50</th>\n",
       "      <td>ZAMORA</td>\n",
       "      <td>53.0</td>\n",
       "      <td>112.0</td>\n",
       "      <td>6.8</td>\n",
       "      <td>63.7</td>\n",
       "      <td>19.8</td>\n",
       "      <td>54.2</td>\n",
       "      <td>3.1</td>\n",
       "      <td>9.6</td>\n",
       "      <td>78.5</td>\n",
       "      <td>55.3</td>\n",
       "      <td>29.0</td>\n",
       "      <td>50.3</td>\n",
       "      <td>535.3</td>\n",
       "    </tr>\n",
       "    <tr>\n",
       "      <th>51</th>\n",
       "      <td>ZARAGOZA</td>\n",
       "      <td>52.0</td>\n",
       "      <td>30.0</td>\n",
       "      <td>3.6</td>\n",
       "      <td>52.7</td>\n",
       "      <td>38.3</td>\n",
       "      <td>57.5</td>\n",
       "      <td>13.5</td>\n",
       "      <td>13.2</td>\n",
       "      <td>61.5</td>\n",
       "      <td>27.4</td>\n",
       "      <td>76.6</td>\n",
       "      <td>23.4</td>\n",
       "      <td>449.7</td>\n",
       "    </tr>\n",
       "  </tbody>\n",
       "</table>\n",
       "</div>"
      ],
      "text/plain": [
       "        region  enero  febrero  marzo  abril  mayo  junio  julio  agosto  \\\n",
       "47      TOLEDO   83.0     51.1    7.5   62.5  15.0   27.1    3.3    18.6   \n",
       "48    VALENCIA   61.9     16.8   49.3   86.4  33.8   34.2   17.1    30.9   \n",
       "49  VALLADOLID   29.2     69.1    4.1   65.1  24.3   58.3    1.9     3.8   \n",
       "50      ZAMORA   53.0    112.0    6.8   63.7  19.8   54.2    3.1     9.6   \n",
       "51    ZARAGOZA   52.0     30.0    3.6   52.7  38.3   57.5   13.5    13.2   \n",
       "\n",
       "    septiembre  octubre  noviembre  diciembre  anual  \n",
       "47        70.5     94.7       16.4       29.9  479.6  \n",
       "48        99.3     46.1       46.6        5.5  527.9  \n",
       "49        54.1     40.2       41.7       35.9  427.7  \n",
       "50        78.5     55.3       29.0       50.3  535.3  \n",
       "51        61.5     27.4       76.6       23.4  449.7  "
      ]
     },
     "execution_count": 39,
     "metadata": {},
     "output_type": "execute_result"
    }
   ],
   "source": [
    "df.tail()"
   ]
  },
  {
   "cell_type": "code",
   "execution_count": 42,
   "id": "5a887611",
   "metadata": {},
   "outputs": [
    {
     "data": {
      "text/plain": [
       "(52, 14)"
      ]
     },
     "execution_count": 42,
     "metadata": {},
     "output_type": "execute_result"
    }
   ],
   "source": [
    "df.shape"
   ]
  },
  {
   "cell_type": "code",
   "execution_count": 44,
   "id": "a5eb3c45",
   "metadata": {},
   "outputs": [],
   "source": [
    "import pandas as pd \n",
    "head_df=df.head()\n",
    "tail_df=df.tail()"
   ]
  },
  {
   "cell_type": "code",
   "execution_count": 46,
   "id": "f88ad219",
   "metadata": {},
   "outputs": [
    {
     "name": "stdout",
     "output_type": "stream",
     "text": [
      "0    4\n",
      "1    7\n",
      "2   -5\n",
      "3    3\n",
      "dtype: int64\n"
     ]
    }
   ],
   "source": [
    "numeros = [4, 7, -5, 3]\n",
    "mi_serie = pd.Series(numeros)\n",
    "print(mi_serie)"
   ]
  },
  {
   "cell_type": "code",
   "execution_count": 47,
   "id": "0309b48c",
   "metadata": {},
   "outputs": [
    {
     "name": "stdout",
     "output_type": "stream",
     "text": [
      "30\n"
     ]
    }
   ],
   "source": [
    "import pandas as pd\n",
    "lista =[10, 20, 30, 40]\n",
    "indices = ['a', 'b', 'c', 'd']\n",
    "serie_con_indices=pd.Series(lista,indices)\n",
    "valor_c='c'\n",
    "def imprimir_valor_c(valor_c):\n",
    "    print(serie_con_indices[valor_c])\n",
    "    \n",
    "imprimir_valor_c(valor_c)"
   ]
  },
  {
   "cell_type": "code",
   "execution_count": 48,
   "id": "56b06360",
   "metadata": {},
   "outputs": [
    {
     "name": "stdout",
     "output_type": "stream",
     "text": [
      "5.0\n"
     ]
    }
   ],
   "source": [
    "import pandas as pd\n",
    "serie_grande = pd.Series([1,2,3,4,5,6,7,8,9,10])\n",
    "\n",
    "print(serie_grande[9]**1/2)"
   ]
  },
  {
   "cell_type": "code",
   "execution_count": 50,
   "id": "68deb15a",
   "metadata": {},
   "outputs": [
    {
     "data": {
      "text/plain": [
       "9"
      ]
     },
     "execution_count": 50,
     "metadata": {},
     "output_type": "execute_result"
    }
   ],
   "source": [
    "serie_grande[8]"
   ]
  },
  {
   "cell_type": "code",
   "execution_count": 52,
   "id": "3de785b0",
   "metadata": {},
   "outputs": [],
   "source": [
    "data = {\n",
    "    'ID': [1, 2, 3, 4, 5],\n",
    "    'Producto': ['Producto A', 'Producto B', None, 'Producto D', 'Producto E'],\n",
    "    'Cantidad': [10, 20, 30, None, 50],\n",
    "    'Precio': [100, 200, 300, 400, None]\n",
    "}\n",
    "\n",
    "import pandas as pd"
   ]
  },
  {
   "cell_type": "code",
   "execution_count": 66,
   "id": "785de56c",
   "metadata": {},
   "outputs": [
    {
     "data": {
      "text/plain": [
       "ID          0\n",
       "Producto    1\n",
       "Cantidad    1\n",
       "Precio      1\n",
       "dtype: int64"
      ]
     },
     "execution_count": 66,
     "metadata": {},
     "output_type": "execute_result"
    }
   ],
   "source": [
    "df = pd.DataFrame(data)\n",
    "df.isnull().sum()"
   ]
  },
  {
   "cell_type": "code",
   "execution_count": 63,
   "id": "74166c75",
   "metadata": {},
   "outputs": [
    {
     "data": {
      "text/plain": [
       "(5, 4)"
      ]
     },
     "execution_count": 63,
     "metadata": {},
     "output_type": "execute_result"
    }
   ],
   "source": [
    "df.shape"
   ]
  },
  {
   "cell_type": "code",
   "execution_count": 65,
   "id": "90da641f",
   "metadata": {},
   "outputs": [
    {
     "data": {
      "text/plain": [
       "ID          0\n",
       "Producto    1\n",
       "Cantidad    1\n",
       "Precio      1\n",
       "dtype: int64"
      ]
     },
     "execution_count": 65,
     "metadata": {},
     "output_type": "execute_result"
    }
   ],
   "source": [
    "df.isnull().sum()"
   ]
  },
  {
   "cell_type": "code",
   "execution_count": 69,
   "id": "24160c1e",
   "metadata": {},
   "outputs": [
    {
     "data": {
      "text/html": [
       "<div>\n",
       "<style scoped>\n",
       "    .dataframe tbody tr th:only-of-type {\n",
       "        vertical-align: middle;\n",
       "    }\n",
       "\n",
       "    .dataframe tbody tr th {\n",
       "        vertical-align: top;\n",
       "    }\n",
       "\n",
       "    .dataframe thead th {\n",
       "        text-align: right;\n",
       "    }\n",
       "</style>\n",
       "<table border=\"1\" class=\"dataframe\">\n",
       "  <thead>\n",
       "    <tr style=\"text-align: right;\">\n",
       "      <th></th>\n",
       "      <th>ID</th>\n",
       "      <th>Producto</th>\n",
       "      <th>Cantidad</th>\n",
       "      <th>Precio</th>\n",
       "    </tr>\n",
       "  </thead>\n",
       "  <tbody>\n",
       "    <tr>\n",
       "      <th>0</th>\n",
       "      <td>1</td>\n",
       "      <td>Producto A</td>\n",
       "      <td>10</td>\n",
       "      <td>100</td>\n",
       "    </tr>\n",
       "    <tr>\n",
       "      <th>1</th>\n",
       "      <td>2</td>\n",
       "      <td>Producto B</td>\n",
       "      <td>20</td>\n",
       "      <td>200</td>\n",
       "    </tr>\n",
       "    <tr>\n",
       "      <th>2</th>\n",
       "      <td>3</td>\n",
       "      <td>Producto C</td>\n",
       "      <td>30</td>\n",
       "      <td>300</td>\n",
       "    </tr>\n",
       "    <tr>\n",
       "      <th>3</th>\n",
       "      <td>4</td>\n",
       "      <td>Producto D</td>\n",
       "      <td>40</td>\n",
       "      <td>400</td>\n",
       "    </tr>\n",
       "  </tbody>\n",
       "</table>\n",
       "</div>"
      ],
      "text/plain": [
       "   ID    Producto  Cantidad  Precio\n",
       "0   1  Producto A        10     100\n",
       "1   2  Producto B        20     200\n",
       "2   3  Producto C        30     300\n",
       "3   4  Producto D        40     400"
      ]
     },
     "execution_count": 69,
     "metadata": {},
     "output_type": "execute_result"
    }
   ],
   "source": [
    "import pandas as pd\n",
    "\n",
    "data = {\n",
    "    'ID': [1, 2, 3, 4, 1],\n",
    "    'Producto': ['Producto A', 'Producto B', 'Producto C', 'Producto D', 'Producto A'],\n",
    "    'Cantidad': [10, 20, 30, 40, 50],\n",
    "    'Precio': [100, 200, 300, 400, 100]\n",
    "}\n",
    "\n",
    "df = pd.DataFrame(data)\n",
    "df_sin_duplicados = df.drop_duplicates(subset=\"ID\")\n",
    "\n",
    "df_sin_duplicados"
   ]
  },
  {
   "cell_type": "code",
   "execution_count": 72,
   "id": "342df218",
   "metadata": {},
   "outputs": [
    {
     "data": {
      "text/html": [
       "<div>\n",
       "<style scoped>\n",
       "    .dataframe tbody tr th:only-of-type {\n",
       "        vertical-align: middle;\n",
       "    }\n",
       "\n",
       "    .dataframe tbody tr th {\n",
       "        vertical-align: top;\n",
       "    }\n",
       "\n",
       "    .dataframe thead th {\n",
       "        text-align: right;\n",
       "    }\n",
       "</style>\n",
       "<table border=\"1\" class=\"dataframe\">\n",
       "  <thead>\n",
       "    <tr style=\"text-align: right;\">\n",
       "      <th></th>\n",
       "      <th>ID</th>\n",
       "      <th>Producto</th>\n",
       "      <th>Cantidad</th>\n",
       "      <th>Precio</th>\n",
       "    </tr>\n",
       "  </thead>\n",
       "  <tbody>\n",
       "    <tr>\n",
       "      <th>0</th>\n",
       "      <td>1</td>\n",
       "      <td>Producto A</td>\n",
       "      <td>10</td>\n",
       "      <td>100.0</td>\n",
       "    </tr>\n",
       "    <tr>\n",
       "      <th>1</th>\n",
       "      <td>2</td>\n",
       "      <td>Producto B</td>\n",
       "      <td>20</td>\n",
       "      <td>200.0</td>\n",
       "    </tr>\n",
       "    <tr>\n",
       "      <th>2</th>\n",
       "      <td>3</td>\n",
       "      <td>Producto C</td>\n",
       "      <td>30</td>\n",
       "      <td>300.0</td>\n",
       "    </tr>\n",
       "    <tr>\n",
       "      <th>3</th>\n",
       "      <td>4</td>\n",
       "      <td>Producto D</td>\n",
       "      <td>40</td>\n",
       "      <td>200.0</td>\n",
       "    </tr>\n",
       "  </tbody>\n",
       "</table>\n",
       "</div>"
      ],
      "text/plain": [
       "   ID    Producto  Cantidad  Precio\n",
       "0   1  Producto A        10   100.0\n",
       "1   2  Producto B        20   200.0\n",
       "2   3  Producto C        30   300.0\n",
       "3   4  Producto D        40   200.0"
      ]
     },
     "execution_count": 72,
     "metadata": {},
     "output_type": "execute_result"
    }
   ],
   "source": [
    "import pandas as pd\n",
    "\n",
    "data = {\n",
    "    'ID': [1, 2, 3, 4],\n",
    "    'Producto': ['Producto A', 'Producto B', 'Producto C', 'Producto D'],\n",
    "    'Cantidad': [10, 20, 30, 40],\n",
    "    'Precio': [100, None, 300, None]\n",
    "}\n",
    "\n",
    "df = pd.DataFrame(data)\n",
    "replazo = {'Precio': df[\"Precio\"].mean()}\n",
    "\n",
    "df_sin_nulos = df.fillna(replazo)\n",
    "df_sin_nulos"
   ]
  },
  {
   "cell_type": "code",
   "execution_count": 76,
   "id": "b433a5db",
   "metadata": {},
   "outputs": [
    {
     "data": {
      "text/plain": [
       "10    11\n",
       "11    12\n",
       "12    13\n",
       "13    14\n",
       "14    15\n",
       "15    16\n",
       "16    17\n",
       "17    18\n",
       "18    19\n",
       "19    20\n",
       "dtype: int64"
      ]
     },
     "execution_count": 76,
     "metadata": {},
     "output_type": "execute_result"
    }
   ],
   "source": [
    "import pandas as pd\n",
    "serie_numeros = pd.Series(range(1,21))\n",
    "\n",
    "filtro = serie_numeros > 10\n",
    "\n",
    "serie_numeros = serie_numeros[filtro]\n",
    "serie_numeros"
   ]
  },
  {
   "cell_type": "code",
   "execution_count": 77,
   "id": "b50e8049",
   "metadata": {},
   "outputs": [
    {
     "data": {
      "text/plain": [
       "0    18\n",
       "1    22\n",
       "5     8\n",
       "dtype: int64"
      ]
     },
     "execution_count": 77,
     "metadata": {},
     "output_type": "execute_result"
    }
   ],
   "source": [
    "import pandas as pd\n",
    "valores = pd.Series([18, 22, 7, 9, 15, 8])\n",
    "\n",
    "condicion_valores_pares = valores % 2 == 0\n",
    "\n",
    "valores = valores[condicion_valores_pares]\n",
    "valores"
   ]
  },
  {
   "cell_type": "code",
   "execution_count": 78,
   "id": "c36bc426",
   "metadata": {},
   "outputs": [
    {
     "data": {
      "text/plain": [
       "2       cereza\n",
       "4    frambuesa\n",
       "dtype: object"
      ]
     },
     "execution_count": 78,
     "metadata": {},
     "output_type": "execute_result"
    }
   ],
   "source": [
    "import pandas as pd\n",
    "frutas = pd.Series([\"manzana\", \"banana\", \"cereza\", \"durazno\", \"frambuesa\"])\n",
    "\n",
    "frutas_con_e = frutas.str.contains(\"e\")\n",
    "\n",
    "frutas= frutas[frutas_con_e]\n",
    "frutas"
   ]
  },
  {
   "cell_type": "code",
   "execution_count": 82,
   "id": "bc94085f",
   "metadata": {},
   "outputs": [
    {
     "data": {
      "text/plain": [
       "25.625"
      ]
     },
     "execution_count": 82,
     "metadata": {},
     "output_type": "execute_result"
    }
   ],
   "source": [
    "import pandas as pd\n",
    "\n",
    "# Lista de edades\n",
    "edades = [23, 30, 26, 27, 22, 24, 25, 28]\n",
    "numeros = pd.Series(edades)\n",
    "\n",
    "promedio_edades=numeros.mean()\n",
    "\n",
    "promedio_edades"
   ]
  },
  {
   "cell_type": "code",
   "execution_count": 97,
   "id": "3c192869",
   "metadata": {},
   "outputs": [],
   "source": [
    "import pandas as pd\n",
    "ventas = [120, 150, 90, 200, 210, 130, 160]\n",
    "\n",
    "serie = pd.Series(ventas, ['Lunes','Martes','Miercoles','Jueves','Viernes','Sabado','Domingo'])\n",
    "\n",
    "suma_total_ventas = serie.sum()\n",
    "dia_mayores_ventas = serie.max()\n",
    "promedio_ventas = serie.mean()"
   ]
  },
  {
   "cell_type": "code",
   "execution_count": 98,
   "id": "b5ceb6c8",
   "metadata": {},
   "outputs": [],
   "source": [
    "import pandas as pd\n",
    "\n",
    "# Serie de ventas del mes\n",
    "ventas_mes = pd.Series([220, 235, 260, 213, 202, 298, 265, 198, 220, 230, 190, 215, 275, 222, 218, 245, 233, 210, 290, 210,\n",
    "                        215, 220, 225, 230, 245, 250, 260, 270, 280, 295])\n",
    "                        \n",
    "                        \n",
    "total_ventas_mes = ventas_mes.sum()\n",
    "dia_ventas_mas_bajas = ventas_mes.min()\n",
    "promedio_ventas_mes = ventas_mes.mean()"
   ]
  },
  {
   "cell_type": "code",
   "execution_count": null,
   "id": "3051a799",
   "metadata": {},
   "outputs": [],
   "source": []
  }
 ],
 "metadata": {
  "kernelspec": {
   "display_name": "Python 3 (ipykernel)",
   "language": "python",
   "name": "python3"
  },
  "language_info": {
   "codemirror_mode": {
    "name": "ipython",
    "version": 3
   },
   "file_extension": ".py",
   "mimetype": "text/x-python",
   "name": "python",
   "nbconvert_exporter": "python",
   "pygments_lexer": "ipython3",
   "version": "3.10.9"
  }
 },
 "nbformat": 4,
 "nbformat_minor": 5
}
